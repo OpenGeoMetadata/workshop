{
 "cells": [
  {
   "cell_type": "markdown",
   "id": "1b44daa6",
   "metadata": {},
   "source": [
    "## Step 1. Import Modules"
   ]
  },
  {
   "cell_type": "code",
   "execution_count": 5,
   "id": "819d91b3",
   "metadata": {},
   "outputs": [],
   "source": [
    "import pandas as pd\n",
    "import json\n",
    "import os"
   ]
  },
  {
   "cell_type": "markdown",
   "id": "8caf44c6",
   "metadata": {},
   "source": [
    "## Step 2. Specify the file paths"
   ]
  },
  {
   "cell_type": "code",
   "execution_count": 6,
   "id": "0db87082",
   "metadata": {},
   "outputs": [],
   "source": [
    "csv_file_path = 'template-filled.csv'  # the name of your CSV\n",
    "reference_uris_file_path = '../aardvark-profile/referenceURIs.csv'  # CSV mapping reference URIs and labels\n",
    "full_schema_file_path = '../aardvark-profile/aardvark.csv'  # CSV mapping OGM Aardvark fields and labels\n",
    "output_dir = 'json_output'  # Output directory"
   ]
  },
  {
   "cell_type": "markdown",
   "id": "55d6008b",
   "metadata": {},
   "source": [
    "## Step 3. Define the function"
   ]
  },
  {
   "cell_type": "code",
   "execution_count": 7,
   "id": "a5c218c8",
   "metadata": {},
   "outputs": [],
   "source": [
    "def convert_csv_to_json(csv_file_path, reference_uris_file_path, full_schema_file_path, output_dir):\n",
    "    # Load the CSV data\n",
    "    csv_data = pd.read_csv(csv_file_path)\n",
    "    # Load the reference URIs data\n",
    "    reference_uris_data = pd.read_csv(reference_uris_file_path)\n",
    "    reference_uri_dict = dict(zip(reference_uris_data['LABEL'], reference_uris_data['URI']))\n",
    "    # Load the full schema data\n",
    "    full_schema_data = pd.read_csv(full_schema_file_path)\n",
    "    \n",
    "    # Create output directory if it doesn't exist\n",
    "    os.makedirs(output_dir, exist_ok=True)\n",
    "\n",
    "    # Function to handle multivalued fields\n",
    "    def split_multivalues(val):\n",
    "        return val.split('|') if pd.notna(val) and '|' in val else [val]\n",
    "    \n",
    "    # Function to construct JSON data from a row\n",
    "    def construct_json_data(row):\n",
    "        json_data = {}\n",
    "        for _, schema_row in full_schema_data.iterrows():\n",
    "            label = schema_row['Label']\n",
    "            field_name = schema_row['Field Name']\n",
    "            field_type = schema_row['Field Type']\n",
    "            \n",
    "            if field_name in [\"dct_references_s\"]:  # Handle references separately\n",
    "                references = {}\n",
    "                for ref_label in reference_uri_dict.keys():\n",
    "                    if pd.notna(row.get(ref_label)):\n",
    "                        references[reference_uri_dict[ref_label]] = row[ref_label]\n",
    "                if references:\n",
    "                    json_data[field_name] = json.dumps(references)\n",
    "            elif pd.notna(row.get(label)):\n",
    "                if field_type == \"Array\":\n",
    "                    json_data[field_name] = split_multivalues(row.get(label, \"\"))\n",
    "                else:\n",
    "                    json_data[field_name] = row.get(label, \"\")\n",
    "        \n",
    "        json_data[\"gbl_mdVersion_s\"] = \"Aardvark\"\n",
    "        return json_data\n",
    "\n",
    "    # Iterate over each row in the CSV and generate JSON files\n",
    "    for index, row in csv_data.iterrows():\n",
    "        json_data = construct_json_data(row)\n",
    "        \n",
    "        # Determine the file name based on the ID or index\n",
    "        file_name = f\"{row.get('ID', index)}.json\"\n",
    "        file_path = os.path.join(output_dir, file_name)\n",
    "        \n",
    "        # Write the JSON data to a file\n",
    "        with open(file_path, 'w') as json_file:\n",
    "            json.dump(json_data, json_file, indent=4)"
   ]
  },
  {
   "cell_type": "markdown",
   "id": "e1955570",
   "metadata": {},
   "source": [
    "## Step 4: Run the script"
   ]
  },
  {
   "cell_type": "code",
   "execution_count": 8,
   "id": "affba6fd",
   "metadata": {},
   "outputs": [
    {
     "name": "stdout",
     "output_type": "stream",
     "text": [
      "JSON files generated in directory: json_output\n"
     ]
    }
   ],
   "source": [
    "# Convert the CSV to individual JSON files\n",
    "convert_csv_to_json(csv_file_path, reference_uris_file_path, full_schema_file_path, output_dir)\n",
    "\n",
    "# Print a message indicating completion\n",
    "print(f'JSON files generated in directory: {output_dir}')"
   ]
  },
  {
   "cell_type": "code",
   "execution_count": null,
   "id": "15d2f30c",
   "metadata": {},
   "outputs": [],
   "source": []
  }
 ],
 "metadata": {
  "kernelspec": {
   "display_name": "Python 3 (ipykernel)",
   "language": "python",
   "name": "python3"
  },
  "language_info": {
   "codemirror_mode": {
    "name": "ipython",
    "version": 3
   },
   "file_extension": ".py",
   "mimetype": "text/x-python",
   "name": "python",
   "nbconvert_exporter": "python",
   "pygments_lexer": "ipython3",
   "version": "3.10.12"
  }
 },
 "nbformat": 4,
 "nbformat_minor": 5
}
