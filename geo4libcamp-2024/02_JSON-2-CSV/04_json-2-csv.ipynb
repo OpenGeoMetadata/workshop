{
 "cells": [
  {
   "cell_type": "markdown",
   "id": "9f24e39b",
   "metadata": {},
   "source": [
    "## Step 1. Import Modules"
   ]
  },
  {
   "cell_type": "code",
   "execution_count": 9,
   "id": "e2f45c8b",
   "metadata": {},
   "outputs": [],
   "source": [
    "import pandas as pd\n",
    "import json\n",
    "import os"
   ]
  },
  {
   "cell_type": "markdown",
   "id": "5c740845",
   "metadata": {},
   "source": [
    "## Step 2. Specify the file paths"
   ]
  },
  {
   "cell_type": "code",
   "execution_count": 10,
   "id": "fb663a5b",
   "metadata": {},
   "outputs": [],
   "source": [
    "json_dir = 'opengeometadata'  # Directory containing the JSON files\n",
    "reference_uris_file_path = 'aardvark-profile/referenceURIs.csv'  # CSV mapping reference URIs and labels\n",
    "full_schema_file_path = 'aardvark-profile/aardvark.csv'  # CSV mapping OGM Aardvark fields and labels\n",
    "csv_file_path = 'opengeometadata.csv'  # Path to the output CSV file"
   ]
  },
  {
   "cell_type": "markdown",
   "id": "bcda4548",
   "metadata": {},
   "source": [
    "## Step 3. Define functions"
   ]
  },
  {
   "cell_type": "code",
   "execution_count": 11,
   "id": "c7fc8629",
   "metadata": {},
   "outputs": [],
   "source": [
    "def convert_json_to_csv(json_dir, reference_uris_file_path, full_schema_file_path, csv_file_path):\n",
    "    # Load the reference URIs data\n",
    "    reference_uris_data = pd.read_csv(reference_uris_file_path)\n",
    "    reference_uri_dict = {v: k for k, v in dict(zip(reference_uris_data['LABEL'], reference_uris_data['URI'])).items()}\n",
    "    # Load the full schema data\n",
    "    full_schema_data = pd.read_csv(full_schema_file_path)\n",
    "    \n",
    "    # List to hold the CSV data\n",
    "    csv_data_list = []\n",
    "\n",
    "    # Traverse the directory tree recursively\n",
    "    for root, dirs, files in os.walk(json_dir):\n",
    "        for filename in files:\n",
    "            if filename.endswith(\".json\"):\n",
    "                file_path = os.path.join(root, filename)\n",
    "                with open(file_path, 'r') as json_file:\n",
    "                    json_data = json.load(json_file)\n",
    "                    \n",
    "                    csv_row = {}\n",
    "                    for _, schema_row in full_schema_data.iterrows():\n",
    "                        label = schema_row['Label']\n",
    "                        field_name = schema_row['Field Name']\n",
    "                        field_type = schema_row['Field Type']\n",
    "                        \n",
    "                        if field_name in json_data:\n",
    "                            if field_name == \"dct_references_s\":  # Handle references separately\n",
    "                                references = json.loads(json_data[field_name])\n",
    "                                for uri, url in references.items():\n",
    "                                    if uri in reference_uri_dict:\n",
    "                                        csv_row[reference_uri_dict[uri]] = url\n",
    "                            elif field_type == \"Array\":\n",
    "                                csv_row[label] = '|'.join(json_data[field_name])\n",
    "                            else:\n",
    "                                csv_row[label] = json_data[field_name]\n",
    "                    \n",
    "                    csv_data_list.append(csv_row)\n",
    "\n",
    "    # Convert the list of dictionaries to a DataFrame\n",
    "    csv_df = pd.DataFrame(csv_data_list, columns=full_schema_data['Label'])\n",
    "\n",
    "    # Write the DataFrame to a CSV file\n",
    "    csv_df.to_csv(csv_file_path, index=False)"
   ]
  },
  {
   "cell_type": "markdown",
   "id": "8674a7ce",
   "metadata": {},
   "source": [
    "## Step 4: Execute the function"
   ]
  },
  {
   "cell_type": "code",
   "execution_count": 12,
   "id": "f10f5dd0",
   "metadata": {},
   "outputs": [
    {
     "name": "stdout",
     "output_type": "stream",
     "text": [
      "CSV file generated at: opengeometadata.csv\n"
     ]
    }
   ],
   "source": [
    "# Convert the JSON files to a single CSV file\n",
    "convert_json_to_csv(json_dir, reference_uris_file_path, full_schema_file_path, csv_file_path)\n",
    "\n",
    "# Print a message indicating completion\n",
    "print(f'CSV file generated at: {csv_file_path}')"
   ]
  },
  {
   "cell_type": "code",
   "execution_count": null,
   "id": "5f94f3ba",
   "metadata": {},
   "outputs": [],
   "source": []
  }
 ],
 "metadata": {
  "kernelspec": {
   "display_name": "Python 3 (ipykernel)",
   "language": "python",
   "name": "python3"
  },
  "language_info": {
   "codemirror_mode": {
    "name": "ipython",
    "version": 3
   },
   "file_extension": ".py",
   "mimetype": "text/x-python",
   "name": "python",
   "nbconvert_exporter": "python",
   "pygments_lexer": "ipython3",
   "version": "3.10.12"
  }
 },
 "nbformat": 4,
 "nbformat_minor": 5
}
